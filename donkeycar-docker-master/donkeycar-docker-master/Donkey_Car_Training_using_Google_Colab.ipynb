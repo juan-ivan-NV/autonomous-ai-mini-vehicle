{
  "nbformat": 4,
  "nbformat_minor": 0,
  "metadata": {
    "accelerator": "GPU",
    "colab": {
      "name": "Donkey Car Training using Google Colab",
      "provenance": [],
      "collapsed_sections": []
    },
    "kernelspec": {
      "display_name": "Python 3",
      "language": "python",
      "name": "python3"
    },
    "language_info": {
      "codemirror_mode": {
        "name": "ipython",
        "version": 3
      },
      "file_extension": ".py",
      "mimetype": "text/x-python",
      "name": "python",
      "nbconvert_exporter": "python",
      "pygments_lexer": "ipython3",
      "version": "3.7.3"
    }
  },
  "cells": [
    {
      "cell_type": "markdown",
      "metadata": {
        "id": "BlmQIFSLZDdc"
      },
      "source": [
        "# Donkey Car Training using Google Colab\n",
        "\n",
        "Train your donkey car model using accelerated GPU for FREE on Google Colab"
      ]
    },
    {
      "cell_type": "markdown",
      "metadata": {
        "id": "arsH-DhLcihq"
      },
      "source": [
        "## Check GPU allocation\n",
        "If \"Found GPU at: / device: GPU: 0\" is displayed, the GPU is ready to use."
      ]
    },
    {
      "cell_type": "code",
      "metadata": {
        "id": "uQgEhuoTcg0N",
        "colab": {
          "base_uri": "https://localhost:8080/"
        },
        "outputId": "b6cdc1a3-a9dd-4abe-9b9c-8d7d36c407fa"
      },
      "source": [
        "import tensorflow\n",
        "print(tensorflow.__version__)"
      ],
      "execution_count": 1,
      "outputs": [
        {
          "output_type": "stream",
          "name": "stdout",
          "text": [
            "2.8.0\n"
          ]
        }
      ]
    },
    {
      "cell_type": "markdown",
      "metadata": {
        "id": "Ba2oPDIrsDFg"
      },
      "source": [
        "## Git Clone the donkey repository"
      ]
    },
    {
      "cell_type": "code",
      "metadata": {
        "id": "oOxd9PFUyNxI",
        "colab": {
          "base_uri": "https://localhost:8080/"
        },
        "outputId": "de264215-4b9c-4b9a-e2cc-76ec2e20af2b"
      },
      "source": [
        "!git clone https://github.com/autorope/donkeycar.git \n",
        "%cd /content/donkeycar\n",
        "\n",
        "!git checkout master"
      ],
      "execution_count": 2,
      "outputs": [
        {
          "output_type": "stream",
          "name": "stdout",
          "text": [
            "Cloning into 'donkeycar'...\n",
            "remote: Enumerating objects: 14500, done.\u001b[K\n",
            "remote: Counting objects: 100% (1422/1422), done.\u001b[K\n",
            "remote: Compressing objects: 100% (675/675), done.\u001b[K\n",
            "remote: Total 14500 (delta 1002), reused 1056 (delta 740), pack-reused 13078\u001b[K\n",
            "Receiving objects: 100% (14500/14500), 89.35 MiB | 46.94 MiB/s, done.\n",
            "Resolving deltas: 100% (9524/9524), done.\n",
            "/content/donkeycar\n",
            "Branch 'master' set up to track remote branch 'master' from 'origin'.\n",
            "Switched to a new branch 'master'\n"
          ]
        }
      ]
    },
    {
      "cell_type": "markdown",
      "metadata": {
        "id": "9TkkcF-gsAnx"
      },
      "source": [
        "## Install donkey car"
      ]
    },
    {
      "cell_type": "code",
      "metadata": {
        "id": "jz_PZgrByPDh",
        "colab": {
          "base_uri": "https://localhost:8080/"
        },
        "outputId": "fc7f3aac-1171-45e7-88a9-8f8910599273"
      },
      "source": [
        "!pip3 install -e .[pc]"
      ],
      "execution_count": 3,
      "outputs": [
        {
          "output_type": "stream",
          "name": "stdout",
          "text": [
            "Obtaining file:///content/donkeycar\n",
            "Requirement already satisfied: numpy in /usr/local/lib/python3.7/dist-packages (from donkeycar==4.2.1) (1.21.5)\n",
            "Requirement already satisfied: pillow in /usr/local/lib/python3.7/dist-packages (from donkeycar==4.2.1) (7.1.2)\n",
            "Requirement already satisfied: docopt in /usr/local/lib/python3.7/dist-packages (from donkeycar==4.2.1) (0.6.2)\n",
            "Requirement already satisfied: tornado in /usr/local/lib/python3.7/dist-packages (from donkeycar==4.2.1) (5.1.1)\n",
            "Requirement already satisfied: requests in /usr/local/lib/python3.7/dist-packages (from donkeycar==4.2.1) (2.23.0)\n",
            "Requirement already satisfied: h5py in /usr/local/lib/python3.7/dist-packages (from donkeycar==4.2.1) (3.1.0)\n",
            "Requirement already satisfied: PrettyTable in /usr/local/lib/python3.7/dist-packages (from donkeycar==4.2.1) (3.1.1)\n",
            "Collecting paho-mqtt\n",
            "  Downloading paho-mqtt-1.6.1.tar.gz (99 kB)\n",
            "\u001b[K     |████████████████████████████████| 99 kB 8.0 MB/s \n",
            "\u001b[?25hCollecting simple_pid\n",
            "  Downloading simple_pid-1.0.1-py2.py3-none-any.whl (8.1 kB)\n",
            "Collecting progress\n",
            "  Downloading progress-1.6.tar.gz (7.8 kB)\n",
            "Requirement already satisfied: typing_extensions in /usr/local/lib/python3.7/dist-packages (from donkeycar==4.2.1) (3.10.0.2)\n",
            "Collecting pyfiglet\n",
            "  Downloading pyfiglet-0.8.post1-py2.py3-none-any.whl (865 kB)\n",
            "\u001b[K     |████████████████████████████████| 865 kB 62.0 MB/s \n",
            "\u001b[?25hRequirement already satisfied: psutil in /usr/local/lib/python3.7/dist-packages (from donkeycar==4.2.1) (5.4.8)\n",
            "Requirement already satisfied: matplotlib in /usr/local/lib/python3.7/dist-packages (from donkeycar==4.2.1) (3.2.2)\n",
            "Requirement already satisfied: imgaug in /usr/local/lib/python3.7/dist-packages (from donkeycar==4.2.1) (0.2.9)\n",
            "Collecting kivy\n",
            "  Downloading Kivy-2.0.0-cp37-cp37m-manylinux2010_x86_64.whl (19.2 MB)\n",
            "\u001b[K     |████████████████████████████████| 19.2 MB 1.2 MB/s \n",
            "\u001b[?25hRequirement already satisfied: cached-property in /usr/local/lib/python3.7/dist-packages (from h5py->donkeycar==4.2.1) (1.5.2)\n",
            "Requirement already satisfied: opencv-python in /usr/local/lib/python3.7/dist-packages (from imgaug->donkeycar==4.2.1) (4.1.2.30)\n",
            "Requirement already satisfied: scikit-image>=0.11.0 in /usr/local/lib/python3.7/dist-packages (from imgaug->donkeycar==4.2.1) (0.18.3)\n",
            "Requirement already satisfied: six in /usr/local/lib/python3.7/dist-packages (from imgaug->donkeycar==4.2.1) (1.15.0)\n",
            "Requirement already satisfied: imageio in /usr/local/lib/python3.7/dist-packages (from imgaug->donkeycar==4.2.1) (2.4.1)\n",
            "Requirement already satisfied: Shapely in /usr/local/lib/python3.7/dist-packages (from imgaug->donkeycar==4.2.1) (1.8.1.post1)\n",
            "Requirement already satisfied: scipy in /usr/local/lib/python3.7/dist-packages (from imgaug->donkeycar==4.2.1) (1.4.1)\n",
            "Requirement already satisfied: tifffile>=2019.7.26 in /usr/local/lib/python3.7/dist-packages (from scikit-image>=0.11.0->imgaug->donkeycar==4.2.1) (2021.11.2)\n",
            "Requirement already satisfied: networkx>=2.0 in /usr/local/lib/python3.7/dist-packages (from scikit-image>=0.11.0->imgaug->donkeycar==4.2.1) (2.6.3)\n",
            "Requirement already satisfied: PyWavelets>=1.1.1 in /usr/local/lib/python3.7/dist-packages (from scikit-image>=0.11.0->imgaug->donkeycar==4.2.1) (1.2.0)\n",
            "Requirement already satisfied: python-dateutil>=2.1 in /usr/local/lib/python3.7/dist-packages (from matplotlib->donkeycar==4.2.1) (2.8.2)\n",
            "Requirement already satisfied: pyparsing!=2.0.4,!=2.1.2,!=2.1.6,>=2.0.1 in /usr/local/lib/python3.7/dist-packages (from matplotlib->donkeycar==4.2.1) (3.0.7)\n",
            "Requirement already satisfied: kiwisolver>=1.0.1 in /usr/local/lib/python3.7/dist-packages (from matplotlib->donkeycar==4.2.1) (1.3.2)\n",
            "Requirement already satisfied: cycler>=0.10 in /usr/local/lib/python3.7/dist-packages (from matplotlib->donkeycar==4.2.1) (0.11.0)\n",
            "Collecting Kivy-Garden>=0.1.4\n",
            "  Downloading kivy-garden-0.1.4.tar.gz (6.8 kB)\n",
            "Requirement already satisfied: docutils in /usr/local/lib/python3.7/dist-packages (from kivy->donkeycar==4.2.1) (0.17.1)\n",
            "Requirement already satisfied: pygments in /usr/local/lib/python3.7/dist-packages (from kivy->donkeycar==4.2.1) (2.6.1)\n",
            "Requirement already satisfied: wcwidth in /usr/local/lib/python3.7/dist-packages (from PrettyTable->donkeycar==4.2.1) (0.2.5)\n",
            "Requirement already satisfied: importlib-metadata in /usr/local/lib/python3.7/dist-packages (from PrettyTable->donkeycar==4.2.1) (4.11.1)\n",
            "Requirement already satisfied: zipp>=0.5 in /usr/local/lib/python3.7/dist-packages (from importlib-metadata->PrettyTable->donkeycar==4.2.1) (3.7.0)\n",
            "Requirement already satisfied: certifi>=2017.4.17 in /usr/local/lib/python3.7/dist-packages (from requests->donkeycar==4.2.1) (2021.10.8)\n",
            "Requirement already satisfied: idna<3,>=2.5 in /usr/local/lib/python3.7/dist-packages (from requests->donkeycar==4.2.1) (2.10)\n",
            "Requirement already satisfied: chardet<4,>=3.0.2 in /usr/local/lib/python3.7/dist-packages (from requests->donkeycar==4.2.1) (3.0.4)\n",
            "Requirement already satisfied: urllib3!=1.25.0,!=1.25.1,<1.26,>=1.21.1 in /usr/local/lib/python3.7/dist-packages (from requests->donkeycar==4.2.1) (1.24.3)\n",
            "Building wheels for collected packages: Kivy-Garden, paho-mqtt, progress\n",
            "  Building wheel for Kivy-Garden (setup.py) ... \u001b[?25l\u001b[?25hdone\n",
            "  Created wheel for Kivy-Garden: filename=Kivy_Garden-0.1.4-py3-none-any.whl size=4531 sha256=8db514be00f6417b980efba62943dff19e555104568539e28ffbcf00c772036a\n",
            "  Stored in directory: /root/.cache/pip/wheels/3f/43/e3/50289d555356f0421d1c388c82d052d5788f22a34d0cd8659d\n",
            "  Building wheel for paho-mqtt (setup.py) ... \u001b[?25l\u001b[?25hdone\n",
            "  Created wheel for paho-mqtt: filename=paho_mqtt-1.6.1-py3-none-any.whl size=62133 sha256=26a4931f7c46229efc157381e0afb92d9924c509814ea05cb7e0805e6050c6dd\n",
            "  Stored in directory: /root/.cache/pip/wheels/d0/bf/ac/2b3f43f8c6fcd0f4ba5395397458c521eb0b52d33b574a5a40\n",
            "  Building wheel for progress (setup.py) ... \u001b[?25l\u001b[?25hdone\n",
            "  Created wheel for progress: filename=progress-1.6-py3-none-any.whl size=9632 sha256=517a2f4fb29f779c5183dac8ef53b67abac9bd58efecbc56614d038b81c0e527\n",
            "  Stored in directory: /root/.cache/pip/wheels/8e/d7/61/498d8e27dc11e9805b01eb3539e2ee344436fc226daeb5fe87\n",
            "Successfully built Kivy-Garden paho-mqtt progress\n",
            "Installing collected packages: simple-pid, pyfiglet, progress, paho-mqtt, Kivy-Garden, kivy, donkeycar\n",
            "  Running setup.py develop for donkeycar\n",
            "Successfully installed Kivy-Garden-0.1.4 donkeycar-4.2.1 kivy-2.0.0 paho-mqtt-1.6.1 progress-1.6 pyfiglet-0.8.post1 simple-pid-1.0.1\n"
          ]
        }
      ]
    },
    {
      "cell_type": "markdown",
      "metadata": {
        "id": "syCctLq2r4Wk"
      },
      "source": [
        "## Create Project"
      ]
    },
    {
      "cell_type": "code",
      "metadata": {
        "id": "1xjJBSITyXy2",
        "colab": {
          "base_uri": "https://localhost:8080/"
        },
        "outputId": "33171553-ad1f-4e85-8dc3-ea209e3ddfaa"
      },
      "source": [
        "!donkey createcar --path /content/mycar"
      ],
      "execution_count": 4,
      "outputs": [
        {
          "output_type": "stream",
          "name": "stdout",
          "text": [
            "________             ______                   _________              \n",
            "___  __ \\_______________  /___________  __    __  ____/_____ ________\n",
            "__  / / /  __ \\_  __ \\_  //_/  _ \\_  / / /    _  /    _  __ `/_  ___/\n",
            "_  /_/ // /_/ /  / / /  ,<  /  __/  /_/ /     / /___  / /_/ /_  /    \n",
            "/_____/ \\____//_/ /_//_/|_| \\___/_\\__, /      \\____/  \\__,_/ /_/     \n",
            "                                 /____/                              \n",
            "\n",
            "using donkey v4.2.1 ...\n",
            "Creating car folder: /content/mycar\n",
            "making dir  /content/mycar\n",
            "Creating data & model folders.\n",
            "making dir  /content/mycar/models\n",
            "making dir  /content/mycar/data\n",
            "making dir  /content/mycar/logs\n",
            "Copying car application template: complete\n",
            "Copying car config defaults. Adjust these before starting your car.\n",
            "Copying train script. Adjust these before starting your car.\n",
            "Copying calibrate script. Adjust these before starting your car.\n",
            "Copying my car config overrides\n",
            "Donkey setup complete.\n"
          ]
        }
      ]
    },
    {
      "cell_type": "markdown",
      "metadata": {
        "id": "SCf6uTHnO4Lh"
      },
      "source": [
        "## Prepare Data\n",
        "### Copy the following code and run on pi\n",
        "\n",
        "\n",
        "```bash\n",
        "cd ~/mycar/data\n",
        "tar -czf tub_xx_yyyy_mm_dd.tar.gz tub_xx_yyyy_mm_dd\n",
        "\n",
        "```\n",
        "\n",
        "This will create a tub_xx_yyyy_mm_dd.tar.gz file under ~/mycar/data"
      ]
    },
    {
      "cell_type": "markdown",
      "metadata": {
        "id": "dnUy1Z1zro77"
      },
      "source": [
        "## Upload Data\n",
        "\n",
        "\n",
        "### Copy the tub to your local pc\n",
        "\n",
        "Run this on your local pc if you are using linux/mac\n",
        "```\n",
        "sftp pi@raspberry.local\n",
        "cd ~/mycar/data\n",
        "get tub_xx_yyyy_mm_dd.tar.gz\n",
        "```\n",
        "\n",
        "If you are on a windows, download sftp utility like [filezilla](https://filezilla-project.org/) or [putty](https://www.chiark.greenend.org.uk/~sgtatham/putty/latest.html)"
      ]
    },
    {
      "cell_type": "markdown",
      "metadata": {
        "id": "wlwZuLKA56nt"
      },
      "source": [
        "### Define your tub name here"
      ]
    },
    {
      "cell_type": "code",
      "metadata": {
        "id": "0ShFSsaewLCT"
      },
      "source": [
        "tub_name=\"tub_49_19_12_10\""
      ],
      "execution_count": null,
      "outputs": []
    },
    {
      "cell_type": "markdown",
      "metadata": {
        "id": "W47gmXA0O4Lo"
      },
      "source": [
        "### Upload the tub to Google Drive\n",
        "\n",
        "First upload the tub_x_yyyy_mm_dd.tar.gz to Google Drive. We will then mount Google Drive from colab and copy the data from Drive directly. When you run the cell below, you will need to click the link and generate an authorization code to for colab to access your drive."
      ]
    },
    {
      "cell_type": "code",
      "metadata": {
        "id": "Bgp_wtENw_4n"
      },
      "source": [
        "from google.colab import drive\n",
        "drive.mount('/content/drive')"
      ],
      "execution_count": null,
      "outputs": []
    },
    {
      "cell_type": "markdown",
      "metadata": {
        "id": "IfSDpXj9x16v"
      },
      "source": [
        "Suppose you upload the tub_xx_yyyy_mm_dd.tar.gz to Google Drive/mycar/tub_xx_yyyy_mm_dd.tar.gz, this is how you copy it from Google Drive to colab"
      ]
    },
    {
      "cell_type": "code",
      "metadata": {
        "id": "BIzWTrV-xwkJ"
      },
      "source": [
        "%cd /content/mycar/data\n",
        "!cp /content/drive/My\\ Drive/mycar/{tub_name}.tar.gz ."
      ],
      "execution_count": null,
      "outputs": []
    },
    {
      "cell_type": "markdown",
      "metadata": {
        "id": "QtwcEli6yFrw"
      },
      "source": [
        "And untar it to the right place"
      ]
    },
    {
      "cell_type": "code",
      "metadata": {
        "id": "urhFWBkUyGf0"
      },
      "source": [
        "!tar -xzf {tub_name}.tar.gz"
      ],
      "execution_count": null,
      "outputs": []
    },
    {
      "cell_type": "markdown",
      "metadata": {
        "id": "eyPsgV5KyFkg"
      },
      "source": [
        "Check whether the data is there"
      ]
    },
    {
      "cell_type": "code",
      "metadata": {
        "id": "KsItvBTkzWcH"
      },
      "source": [
        "!ls {tub_name}"
      ],
      "execution_count": null,
      "outputs": []
    },
    {
      "cell_type": "markdown",
      "metadata": {
        "id": "T3Ya8qEUAfOv"
      },
      "source": [
        "## Train your model"
      ]
    },
    {
      "cell_type": "code",
      "metadata": {
        "id": "edH3xO_AVWXu"
      },
      "source": [
        "!python /content/mycar/manage.py train --type linear --model /content/mycar/models/mypilot.h5"
      ],
      "execution_count": null,
      "outputs": []
    },
    {
      "cell_type": "markdown",
      "metadata": {
        "id": "rXzn1noJz5MQ"
      },
      "source": [
        "Check if the model is generated\n",
        "\n"
      ]
    },
    {
      "cell_type": "code",
      "metadata": {
        "id": "5b9vJV4EzlO8"
      },
      "source": [
        "!ls -alh /content/mycar/models"
      ],
      "execution_count": null,
      "outputs": []
    },
    {
      "cell_type": "code",
      "metadata": {
        "id": "AixQrFy_z3vv"
      },
      "source": [
        "%cd /content/mycar/models\n",
        "\n",
        "import glob\n",
        "file = glob.glob(\"*.png\")\n",
        "  \n",
        "from IPython.display import Image\n",
        "Image(file[0])"
      ],
      "execution_count": null,
      "outputs": []
    },
    {
      "cell_type": "markdown",
      "metadata": {
        "id": "6BEOJYH601O0"
      },
      "source": [
        "## Copy the trained model back to Donkey Car (Pi)\n",
        "\n",
        "Once the training is complete on colab, download the model file under /content/mycar/models/ folder location."
      ]
    },
    {
      "cell_type": "code",
      "metadata": {
        "id": "YtvyJpOdocjb"
      },
      "source": [
        "from google.colab import files\n",
        "\n",
        "files.download('./mypilot.h5')"
      ],
      "execution_count": null,
      "outputs": []
    },
    {
      "cell_type": "markdown",
      "metadata": {
        "id": "i7AIY6yBOCM-"
      },
      "source": [
        "Alternatively, you can copy the model back to Google Drive too"
      ]
    },
    {
      "cell_type": "code",
      "metadata": {
        "id": "7Dim4fCpOBo9"
      },
      "source": [
        "!cp /content/mycar/models/mypilot.h5 /content/drive/My\\ Drive/mycar/models/mypilot.h5"
      ],
      "execution_count": null,
      "outputs": []
    },
    {
      "cell_type": "markdown",
      "metadata": {
        "id": "GpkOVzh86omO"
      },
      "source": [
        "### Copy the file from your PC or Mac to the Raspberry Pi using Filezilla or scp command.\n",
        "\n",
        "```\n",
        "sftp pi@raspberry.local\n",
        "cd mycar/models\n",
        "put mypilot.h5\n",
        "```"
      ]
    },
    {
      "cell_type": "markdown",
      "metadata": {
        "id": "hfERkGy821Xy"
      },
      "source": [
        "## Start Autopilot on Pi\n",
        "\n",
        "\n",
        "```bash\n",
        "cd ~/mycar\n",
        "python manage.py drive --model models/mypilot.h5 --js\n",
        "```\n"
      ]
    },
    {
      "cell_type": "markdown",
      "metadata": {
        "id": "X93SodzAv9hV"
      },
      "source": [
        "## Bonus - Salient Object Visualization"
      ]
    },
    {
      "cell_type": "code",
      "metadata": {
        "id": "4AZvWSeiyqto"
      },
      "source": [
        "# !pip install git+https://github.com/autorope/keras-vis.git\n",
        "!pip uninstall keras-vis\n",
        "!pip install git+https://github.com/sctse999/keras-vis\n",
        "  \n",
        "  "
      ],
      "execution_count": null,
      "outputs": []
    },
    {
      "cell_type": "code",
      "metadata": {
        "id": "kKI37gVrv9Q8"
      },
      "source": [
        "%cd /content/mycar\n",
        "!donkey makemovie --tub data/{tub_name} --model models/mypilot.h5 --type linear --salient"
      ],
      "execution_count": null,
      "outputs": []
    },
    {
      "cell_type": "code",
      "metadata": {
        "id": "IcUrgOq_pePV"
      },
      "source": [
        "from google.colab import files\n",
        "\n",
        "%cd /content/mycar\n",
        "!ls -ahl\n",
        "files.download('tub_movie.mp4')"
      ],
      "execution_count": null,
      "outputs": []
    }
  ]
}